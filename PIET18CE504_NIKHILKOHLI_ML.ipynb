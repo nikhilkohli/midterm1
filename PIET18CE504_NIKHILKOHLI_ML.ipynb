{
  "nbformat": 4,
  "nbformat_minor": 0,
  "metadata": {
    "colab": {
      "name": "PIET18CE504_NIKHILKOHLI_ML.ipynb",
      "provenance": [],
      "collapsed_sections": []
    },
    "kernelspec": {
      "name": "python3",
      "display_name": "Python 3"
    },
    "language_info": {
      "name": "python"
    }
  },
  "cells": [
    {
      "cell_type": "code",
      "metadata": {
        "id": "tq4v4e-351Zt"
      },
      "source": [
        "import numpy as np\n",
        "import matplotlib.pyplot as plt\n",
        "import pandas as pd"
      ],
      "execution_count": 76,
      "outputs": []
    },
    {
      "cell_type": "code",
      "metadata": {
        "colab": {
          "base_uri": "https://localhost:8080/"
        },
        "id": "5z7tlD706Bo_",
        "outputId": "9315244e-4cff-4159-e2ed-6023e973daac"
      },
      "source": [
        "from google.colab import drive\n",
        "drive.mount('/content/drive')"
      ],
      "execution_count": 77,
      "outputs": [
        {
          "output_type": "stream",
          "text": [
            "Drive already mounted at /content/drive; to attempt to forcibly remount, call drive.mount(\"/content/drive\", force_remount=True).\n"
          ],
          "name": "stdout"
        }
      ]
    },
    {
      "cell_type": "code",
      "metadata": {
        "colab": {
          "resources": {
            "http://localhost:8080/nbextensions/google.colab/files.js": {
              "data": "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",
              "ok": true,
              "headers": [
                [
                  "content-type",
                  "application/javascript"
                ]
              ],
              "status": 200,
              "status_text": ""
            }
          },
          "base_uri": "https://localhost:8080/",
          "height": 73
        },
        "id": "8WQhmprRBvqw",
        "outputId": "55af5493-6352-49cb-e636-33a00e0ef059"
      },
      "source": [
        "from google.colab import files\n",
        "Uploaded=files.upload()"
      ],
      "execution_count": 78,
      "outputs": [
        {
          "output_type": "display_data",
          "data": {
            "text/html": [
              "\n",
              "     <input type=\"file\" id=\"files-9ba04f15-d8ad-4d71-a5f3-26743dcd88c7\" name=\"files[]\" multiple disabled\n",
              "        style=\"border:none\" />\n",
              "     <output id=\"result-9ba04f15-d8ad-4d71-a5f3-26743dcd88c7\">\n",
              "      Upload widget is only available when the cell has been executed in the\n",
              "      current browser session. Please rerun this cell to enable.\n",
              "      </output>\n",
              "      <script src=\"/nbextensions/google.colab/files.js\"></script> "
            ],
            "text/plain": [
              "<IPython.core.display.HTML object>"
            ]
          },
          "metadata": {
            "tags": []
          }
        },
        {
          "output_type": "stream",
          "text": [
            "Saving Classification Dataset3.csv to Classification Dataset3 (6).csv\n"
          ],
          "name": "stdout"
        }
      ]
    },
    {
      "cell_type": "code",
      "metadata": {
        "colab": {
          "base_uri": "https://localhost:8080/"
        },
        "id": "ZdH26GaQ6B2W",
        "outputId": "85d12d7e-beba-4632-fb02-dbae67848442"
      },
      "source": [
        "dataset= pd.read_csv('Classification Dataset3.csv')\n",
        "print(dataset)"
      ],
      "execution_count": 79,
      "outputs": [
        {
          "output_type": "stream",
          "text": [
            "     meanfreq        sd    median  ...  centroid   dfrange   label\n",
            "0    0.059781  0.064241  0.032027  ...  0.059781  0.000000    male\n",
            "1    0.066009  0.067310  0.040229  ...  0.066009  0.046875    male\n",
            "2    0.077316       NaN  0.036718  ...  0.077316  0.007812    male\n",
            "3    0.151228  0.072111  0.158011  ...  0.151228  0.554688    male\n",
            "4    0.135120  0.079146  0.124656  ...  0.135120  5.476562    male\n",
            "..        ...       ...       ...  ...       ...       ...     ...\n",
            "623  0.131884  0.084734  0.153707  ...  0.131884  4.203125  female\n",
            "624  0.116221  0.089221  0.076758  ...  0.116221  3.640625  female\n",
            "625  0.142056  0.095798  0.183731  ...  0.142056  2.929688  female\n",
            "626  0.143659  0.090628  0.184976  ...  0.143659  3.585938  female\n",
            "627  0.165509  0.092884  0.183044  ...  0.165509  0.546875  female\n",
            "\n",
            "[628 rows x 10 columns]\n"
          ],
          "name": "stdout"
        }
      ]
    },
    {
      "cell_type": "code",
      "metadata": {
        "colab": {
          "base_uri": "https://localhost:8080/"
        },
        "id": "qRsOzJov6B9f",
        "outputId": "a4122cf9-e3bb-40fc-fc1c-046880ee9b77"
      },
      "source": [
        "dataset.isnull().sum()"
      ],
      "execution_count": 80,
      "outputs": [
        {
          "output_type": "execute_result",
          "data": {
            "text/plain": [
              "meanfreq     0\n",
              "sd          11\n",
              "median       8\n",
              "IQR         11\n",
              "skew        13\n",
              "kurt        11\n",
              "mode         4\n",
              "centroid     5\n",
              "dfrange      0\n",
              "label        0\n",
              "dtype: int64"
            ]
          },
          "metadata": {
            "tags": []
          },
          "execution_count": 80
        }
      ]
    },
    {
      "cell_type": "code",
      "metadata": {
        "id": "_BK-fi6r6CAd"
      },
      "source": [
        "# Extracting dependent and independent variables:\n",
        "# Extracting independent variable:\n",
        "X = dataset.iloc[:, [0,1,2,3,4,5,6,7,8]].values\n",
        "# Extracting dependent variable:\n",
        "y = dataset.iloc[:, 9].values"
      ],
      "execution_count": 81,
      "outputs": []
    },
    {
      "cell_type": "code",
      "metadata": {
        "colab": {
          "base_uri": "https://localhost:8080/"
        },
        "id": "q8HS5XS2HYc7",
        "outputId": "b6f25545-dc50-494f-c560-28a7d9d8ffc5"
      },
      "source": [
        "print(X)"
      ],
      "execution_count": 82,
      "outputs": [
        {
          "output_type": "stream",
          "text": [
            "[[0.05978099 0.06424127 0.03202691 ... 0.         0.05978099 0.        ]\n",
            " [0.06600874 0.06731003 0.04022874 ... 0.         0.06600874 0.046875  ]\n",
            " [0.0773155         nan 0.03671846 ... 0.         0.0773155  0.0078125 ]\n",
            " ...\n",
            " [0.14205626 0.09579843 0.18373124 ... 0.00800572 0.14205626 2.9296875 ]\n",
            " [0.14365875 0.09062826 0.18497617 ... 0.2122021  0.14365875 3.5859375 ]\n",
            " [0.16550895 0.09288354 0.18304392 ... 0.26770174 0.16550895 0.546875  ]]\n"
          ],
          "name": "stdout"
        }
      ]
    },
    {
      "cell_type": "code",
      "metadata": {
        "colab": {
          "base_uri": "https://localhost:8080/"
        },
        "id": "L8N-5ZbVHZMj",
        "outputId": "cca45f59-ec87-4dc6-8efd-d7b820946f39"
      },
      "source": [
        "print(y)"
      ],
      "execution_count": 83,
      "outputs": [
        {
          "output_type": "stream",
          "text": [
            "['male' 'male' 'male' 'male' 'male' 'male' 'male' 'male' 'male' 'male'\n",
            " 'male' 'male' 'male' 'male' 'male' 'male' 'male' 'male' 'male' 'male'\n",
            " 'male' 'male' 'male' 'male' 'male' 'male' 'male' 'male' 'male' 'male'\n",
            " 'male' 'male' 'male' 'male' 'male' 'male' 'male' 'male' 'male' 'male'\n",
            " 'male' 'male' 'male' 'male' 'male' 'male' 'male' 'male' 'male' 'male'\n",
            " 'male' 'male' 'male' 'male' 'male' 'male' 'male' 'male' 'male' 'male'\n",
            " 'male' 'male' 'male' 'male' 'male' 'male' 'male' 'male' 'male' 'male'\n",
            " 'male' 'male' 'male' 'male' 'male' 'male' 'male' 'male' 'male' 'male'\n",
            " 'male' 'male' 'male' 'male' 'male' 'male' 'male' 'male' 'male' 'male'\n",
            " 'male' 'male' 'male' 'male' 'male' 'male' 'male' 'male' 'male' 'male'\n",
            " 'male' 'male' 'male' 'male' 'male' 'male' 'male' 'male' 'male' 'male'\n",
            " 'male' 'male' 'male' 'male' 'male' 'male' 'male' 'male' 'male' 'male'\n",
            " 'male' 'male' 'male' 'male' 'male' 'male' 'male' 'male' 'male' 'male'\n",
            " 'male' 'male' 'male' 'male' 'male' 'male' 'male' 'male' 'male' 'male'\n",
            " 'male' 'male' 'male' 'male' 'male' 'male' 'male' 'male' 'male' 'male'\n",
            " 'male' 'male' 'male' 'male' 'male' 'male' 'male' 'male' 'male' 'male'\n",
            " 'male' 'male' 'male' 'male' 'male' 'male' 'male' 'male' 'male' 'male'\n",
            " 'male' 'male' 'male' 'male' 'male' 'male' 'male' 'male' 'male' 'male'\n",
            " 'male' 'male' 'male' 'male' 'male' 'male' 'male' 'male' 'male' 'male'\n",
            " 'male' 'male' 'male' 'male' 'male' 'male' 'male' 'male' 'male' 'male'\n",
            " 'male' 'male' 'male' 'male' 'male' 'male' 'male' 'male' 'female' 'female'\n",
            " 'female' 'female' 'female' 'female' 'female' 'female' 'female' 'female'\n",
            " 'female' 'female' 'female' 'female' 'female' 'female' 'female' 'female'\n",
            " 'female' 'female' 'female' 'female' 'female' 'female' 'female' 'female'\n",
            " 'female' 'female' 'female' 'female' 'female' 'female' 'female' 'female'\n",
            " 'female' 'female' 'female' 'female' 'female' 'female' 'female' 'female'\n",
            " 'female' 'female' 'female' 'female' 'female' 'female' 'female' 'female'\n",
            " 'female' 'female' 'female' 'female' 'female' 'female' 'female' 'female'\n",
            " 'female' 'female' 'female' 'female' 'female' 'female' 'female' 'female'\n",
            " 'female' 'female' 'female' 'female' 'female' 'female' 'female' 'female'\n",
            " 'female' 'female' 'female' 'female' 'female' 'female' 'female' 'female'\n",
            " 'female' 'female' 'female' 'female' 'female' 'female' 'female' 'female'\n",
            " 'female' 'female' 'female' 'female' 'female' 'female' 'female' 'female'\n",
            " 'female' 'female' 'female' 'female' 'female' 'female' 'female' 'female'\n",
            " 'female' 'female' 'female' 'female' 'female' 'female' 'female' 'female'\n",
            " 'female' 'female' 'female' 'female' 'female' 'female' 'female' 'female'\n",
            " 'female' 'female' 'female' 'female' 'female' 'female' 'female' 'female'\n",
            " 'female' 'female' 'female' 'female' 'female' 'female' 'female' 'female'\n",
            " 'female' 'female' 'female' 'female' 'female' 'female' 'female' 'female'\n",
            " 'female' 'female' 'female' 'female' 'female' 'female' 'female' 'female'\n",
            " 'female' 'female' 'female' 'female' 'female' 'female' 'female' 'female'\n",
            " 'female' 'female' 'female' 'female' 'female' 'female' 'female' 'female'\n",
            " 'female' 'female' 'female' 'female' 'female' 'female' 'female' 'female'\n",
            " 'female' 'female' 'female' 'female' 'female' 'female' 'female' 'female'\n",
            " 'female' 'female' 'female' 'female' 'female' 'female' 'female' 'female'\n",
            " 'female' 'female' 'female' 'female' 'female' 'female' 'female' 'female'\n",
            " 'female' 'female' 'female' 'female' 'female' 'female' 'female' 'female'\n",
            " 'female' 'female' 'female' 'female' 'female' 'female' 'female' 'female'\n",
            " 'female' 'female' 'female' 'female' 'female' 'female' 'female' 'female'\n",
            " 'female' 'female' 'female' 'female' 'female' 'female' 'female' 'female'\n",
            " 'female' 'female' 'female' 'female' 'female' 'female' 'female' 'female'\n",
            " 'female' 'female' 'female' 'female' 'female' 'female' 'female' 'female'\n",
            " 'female' 'female' 'female' 'female' 'female' 'female' 'female' 'female'\n",
            " 'female' 'female' 'female' 'female' 'female' 'female' 'female' 'female'\n",
            " 'female' 'female' 'female' 'female' 'female' 'female' 'female' 'female'\n",
            " 'female' 'female' 'female' 'female' 'female' 'female' 'female' 'female'\n",
            " 'female' 'female' 'female' 'female' 'female' 'female' 'female' 'female'\n",
            " 'female' 'female' 'female' 'female' 'female' 'female' 'female' 'female'\n",
            " 'female' 'female' 'female' 'female' 'female' 'female' 'female' 'female'\n",
            " 'female' 'female' 'female' 'female' 'female' 'female' 'female' 'female'\n",
            " 'female' 'female' 'female' 'female' 'female' 'female' 'female' 'female'\n",
            " 'female' 'female' 'female' 'female' 'female' 'female' 'female' 'female'\n",
            " 'female' 'female' 'female' 'female' 'female' 'female' 'female' 'female'\n",
            " 'female' 'female' 'female' 'female' 'female' 'female' 'female' 'female'\n",
            " 'female' 'female' 'female' 'female' 'female' 'female' 'female' 'female'\n",
            " 'female' 'female' 'female' 'female' 'female' 'female' 'female' 'female'\n",
            " 'female' 'female' 'female' 'female' 'female' 'female' 'female' 'female'\n",
            " 'female' 'female' 'female' 'female' 'female' 'female' 'female' 'female'\n",
            " 'female' 'female' 'female' 'female' 'female' 'female' 'female' 'female'\n",
            " 'female' 'female' 'female' 'female' 'female' 'female' 'female' 'female'\n",
            " 'female' 'female' 'female' 'female' 'female' 'female' 'female' 'female'\n",
            " 'female' 'female' 'female' 'female' 'female' 'female' 'female' 'female'\n",
            " 'female' 'female' 'female' 'female' 'female' 'female' 'female' 'female'\n",
            " 'female' 'female']\n"
          ],
          "name": "stdout"
        }
      ]
    },
    {
      "cell_type": "code",
      "metadata": {
        "id": "Qf00I8dJHcSy"
      },
      "source": [
        "# Taking care of missing data\n",
        "#handling missing data (Replacing missing data with the mean value)  \n",
        "from sklearn.impute import SimpleImputer\n",
        "imputer = SimpleImputer(missing_values= np.NAN, strategy= 'mean', fill_value=None, verbose=1, copy=True)\n",
        "#Fitting imputer object to the independent variables x.   \n",
        "imputer = imputer.fit(X[:, 1:8]) \n",
        "#Replacing missing data with the calculated mean value  \n",
        "X[:, 1:8]= imputer.transform(X[:, 1:8])"
      ],
      "execution_count": 84,
      "outputs": []
    },
    {
      "cell_type": "code",
      "metadata": {
        "colab": {
          "base_uri": "https://localhost:8080/"
        },
        "id": "Ed9Q08JtHjb6",
        "outputId": "b92db180-0cc0-4905-ce36-339c7ebdb3e1"
      },
      "source": [
        "print(X)"
      ],
      "execution_count": 85,
      "outputs": [
        {
          "output_type": "stream",
          "text": [
            "[[0.05978099 0.06424127 0.03202691 ... 0.         0.05978099 0.        ]\n",
            " [0.06600874 0.06731003 0.04022874 ... 0.         0.06600874 0.046875  ]\n",
            " [0.0773155  0.05647186 0.03671846 ... 0.         0.0773155  0.0078125 ]\n",
            " ...\n",
            " [0.14205626 0.09579843 0.18373124 ... 0.00800572 0.14205626 2.9296875 ]\n",
            " [0.14365875 0.09062826 0.18497617 ... 0.2122021  0.14365875 3.5859375 ]\n",
            " [0.16550895 0.09288354 0.18304392 ... 0.26770174 0.16550895 0.546875  ]]\n"
          ],
          "name": "stdout"
        }
      ]
    },
    {
      "cell_type": "code",
      "metadata": {
        "colab": {
          "base_uri": "https://localhost:8080/"
        },
        "id": "PFEqT6OCHl46",
        "outputId": "6eee4c21-c66f-4181-d37a-3b1f6b65f5e2"
      },
      "source": [
        "print(y)"
      ],
      "execution_count": 86,
      "outputs": [
        {
          "output_type": "stream",
          "text": [
            "['male' 'male' 'male' 'male' 'male' 'male' 'male' 'male' 'male' 'male'\n",
            " 'male' 'male' 'male' 'male' 'male' 'male' 'male' 'male' 'male' 'male'\n",
            " 'male' 'male' 'male' 'male' 'male' 'male' 'male' 'male' 'male' 'male'\n",
            " 'male' 'male' 'male' 'male' 'male' 'male' 'male' 'male' 'male' 'male'\n",
            " 'male' 'male' 'male' 'male' 'male' 'male' 'male' 'male' 'male' 'male'\n",
            " 'male' 'male' 'male' 'male' 'male' 'male' 'male' 'male' 'male' 'male'\n",
            " 'male' 'male' 'male' 'male' 'male' 'male' 'male' 'male' 'male' 'male'\n",
            " 'male' 'male' 'male' 'male' 'male' 'male' 'male' 'male' 'male' 'male'\n",
            " 'male' 'male' 'male' 'male' 'male' 'male' 'male' 'male' 'male' 'male'\n",
            " 'male' 'male' 'male' 'male' 'male' 'male' 'male' 'male' 'male' 'male'\n",
            " 'male' 'male' 'male' 'male' 'male' 'male' 'male' 'male' 'male' 'male'\n",
            " 'male' 'male' 'male' 'male' 'male' 'male' 'male' 'male' 'male' 'male'\n",
            " 'male' 'male' 'male' 'male' 'male' 'male' 'male' 'male' 'male' 'male'\n",
            " 'male' 'male' 'male' 'male' 'male' 'male' 'male' 'male' 'male' 'male'\n",
            " 'male' 'male' 'male' 'male' 'male' 'male' 'male' 'male' 'male' 'male'\n",
            " 'male' 'male' 'male' 'male' 'male' 'male' 'male' 'male' 'male' 'male'\n",
            " 'male' 'male' 'male' 'male' 'male' 'male' 'male' 'male' 'male' 'male'\n",
            " 'male' 'male' 'male' 'male' 'male' 'male' 'male' 'male' 'male' 'male'\n",
            " 'male' 'male' 'male' 'male' 'male' 'male' 'male' 'male' 'male' 'male'\n",
            " 'male' 'male' 'male' 'male' 'male' 'male' 'male' 'male' 'male' 'male'\n",
            " 'male' 'male' 'male' 'male' 'male' 'male' 'male' 'male' 'female' 'female'\n",
            " 'female' 'female' 'female' 'female' 'female' 'female' 'female' 'female'\n",
            " 'female' 'female' 'female' 'female' 'female' 'female' 'female' 'female'\n",
            " 'female' 'female' 'female' 'female' 'female' 'female' 'female' 'female'\n",
            " 'female' 'female' 'female' 'female' 'female' 'female' 'female' 'female'\n",
            " 'female' 'female' 'female' 'female' 'female' 'female' 'female' 'female'\n",
            " 'female' 'female' 'female' 'female' 'female' 'female' 'female' 'female'\n",
            " 'female' 'female' 'female' 'female' 'female' 'female' 'female' 'female'\n",
            " 'female' 'female' 'female' 'female' 'female' 'female' 'female' 'female'\n",
            " 'female' 'female' 'female' 'female' 'female' 'female' 'female' 'female'\n",
            " 'female' 'female' 'female' 'female' 'female' 'female' 'female' 'female'\n",
            " 'female' 'female' 'female' 'female' 'female' 'female' 'female' 'female'\n",
            " 'female' 'female' 'female' 'female' 'female' 'female' 'female' 'female'\n",
            " 'female' 'female' 'female' 'female' 'female' 'female' 'female' 'female'\n",
            " 'female' 'female' 'female' 'female' 'female' 'female' 'female' 'female'\n",
            " 'female' 'female' 'female' 'female' 'female' 'female' 'female' 'female'\n",
            " 'female' 'female' 'female' 'female' 'female' 'female' 'female' 'female'\n",
            " 'female' 'female' 'female' 'female' 'female' 'female' 'female' 'female'\n",
            " 'female' 'female' 'female' 'female' 'female' 'female' 'female' 'female'\n",
            " 'female' 'female' 'female' 'female' 'female' 'female' 'female' 'female'\n",
            " 'female' 'female' 'female' 'female' 'female' 'female' 'female' 'female'\n",
            " 'female' 'female' 'female' 'female' 'female' 'female' 'female' 'female'\n",
            " 'female' 'female' 'female' 'female' 'female' 'female' 'female' 'female'\n",
            " 'female' 'female' 'female' 'female' 'female' 'female' 'female' 'female'\n",
            " 'female' 'female' 'female' 'female' 'female' 'female' 'female' 'female'\n",
            " 'female' 'female' 'female' 'female' 'female' 'female' 'female' 'female'\n",
            " 'female' 'female' 'female' 'female' 'female' 'female' 'female' 'female'\n",
            " 'female' 'female' 'female' 'female' 'female' 'female' 'female' 'female'\n",
            " 'female' 'female' 'female' 'female' 'female' 'female' 'female' 'female'\n",
            " 'female' 'female' 'female' 'female' 'female' 'female' 'female' 'female'\n",
            " 'female' 'female' 'female' 'female' 'female' 'female' 'female' 'female'\n",
            " 'female' 'female' 'female' 'female' 'female' 'female' 'female' 'female'\n",
            " 'female' 'female' 'female' 'female' 'female' 'female' 'female' 'female'\n",
            " 'female' 'female' 'female' 'female' 'female' 'female' 'female' 'female'\n",
            " 'female' 'female' 'female' 'female' 'female' 'female' 'female' 'female'\n",
            " 'female' 'female' 'female' 'female' 'female' 'female' 'female' 'female'\n",
            " 'female' 'female' 'female' 'female' 'female' 'female' 'female' 'female'\n",
            " 'female' 'female' 'female' 'female' 'female' 'female' 'female' 'female'\n",
            " 'female' 'female' 'female' 'female' 'female' 'female' 'female' 'female'\n",
            " 'female' 'female' 'female' 'female' 'female' 'female' 'female' 'female'\n",
            " 'female' 'female' 'female' 'female' 'female' 'female' 'female' 'female'\n",
            " 'female' 'female' 'female' 'female' 'female' 'female' 'female' 'female'\n",
            " 'female' 'female' 'female' 'female' 'female' 'female' 'female' 'female'\n",
            " 'female' 'female' 'female' 'female' 'female' 'female' 'female' 'female'\n",
            " 'female' 'female' 'female' 'female' 'female' 'female' 'female' 'female'\n",
            " 'female' 'female' 'female' 'female' 'female' 'female' 'female' 'female'\n",
            " 'female' 'female' 'female' 'female' 'female' 'female' 'female' 'female'\n",
            " 'female' 'female' 'female' 'female' 'female' 'female' 'female' 'female'\n",
            " 'female' 'female' 'female' 'female' 'female' 'female' 'female' 'female'\n",
            " 'female' 'female' 'female' 'female' 'female' 'female' 'female' 'female'\n",
            " 'female' 'female' 'female' 'female' 'female' 'female' 'female' 'female'\n",
            " 'female' 'female' 'female' 'female' 'female' 'female' 'female' 'female'\n",
            " 'female' 'female' 'female' 'female' 'female' 'female' 'female' 'female'\n",
            " 'female' 'female']\n"
          ],
          "name": "stdout"
        }
      ]
    },
    {
      "cell_type": "code",
      "metadata": {
        "id": "sewBeYbDJoP0"
      },
      "source": [
        "# Encoding Categorical data:\n",
        "# Encoding the Independent Variable\n",
        "from sklearn.preprocessing import LabelEncoder\n",
        "labelencoder_y = LabelEncoder()\n",
        "y = labelencoder_y.fit_transform(y)"
      ],
      "execution_count": 87,
      "outputs": []
    },
    {
      "cell_type": "code",
      "metadata": {
        "id": "ToWLGc9Z6Yvu"
      },
      "source": [
        "# Taking care of missing data\n",
        "#handling missing data (Replacing missing data with the mean value)  \n",
        "from sklearn.impute import SimpleImputer\n",
        "imputer = SimpleImputer(missing_values= np.NAN, strategy= 'mean', fill_value=None, verbose=1, copy=True)\n",
        "#Fitting imputer object to the independent variables x.   \n",
        "imputer = imputer.fit(X[:, :]) \n",
        "#Replacing missing data with the calculated mean value  \n",
        "X[:, :]= imputer.transform(X[:,:])"
      ],
      "execution_count": 88,
      "outputs": []
    },
    {
      "cell_type": "code",
      "metadata": {
        "colab": {
          "base_uri": "https://localhost:8080/"
        },
        "id": "pvrmjdkc6au-",
        "outputId": "c809c5f7-05e9-4096-b711-f04cb7806c29"
      },
      "source": [
        "pd.DataFrame(y).isnull().sum()"
      ],
      "execution_count": 89,
      "outputs": [
        {
          "output_type": "execute_result",
          "data": {
            "text/plain": [
              "0    0\n",
              "dtype: int64"
            ]
          },
          "metadata": {
            "tags": []
          },
          "execution_count": 89
        }
      ]
    },
    {
      "cell_type": "code",
      "metadata": {
        "colab": {
          "base_uri": "https://localhost:8080/"
        },
        "id": "eu5BB_OF6csu",
        "outputId": "d08302d7-6cc2-4922-8dbe-8bba82a23481"
      },
      "source": [
        "pd.DataFrame(X).isnull().sum()"
      ],
      "execution_count": 90,
      "outputs": [
        {
          "output_type": "execute_result",
          "data": {
            "text/plain": [
              "0    0\n",
              "1    0\n",
              "2    0\n",
              "3    0\n",
              "4    0\n",
              "5    0\n",
              "6    0\n",
              "7    0\n",
              "8    0\n",
              "dtype: int64"
            ]
          },
          "metadata": {
            "tags": []
          },
          "execution_count": 90
        }
      ]
    },
    {
      "cell_type": "code",
      "metadata": {
        "colab": {
          "base_uri": "https://localhost:8080/"
        },
        "id": "ZbiLwzoz6e03",
        "outputId": "ed4d5024-c54f-45b6-c5e8-1a049e3d5cfe"
      },
      "source": [
        "print(y.shape)\n",
        "print(y)"
      ],
      "execution_count": 91,
      "outputs": [
        {
          "output_type": "stream",
          "text": [
            "(628,)\n",
            "[1 1 1 1 1 1 1 1 1 1 1 1 1 1 1 1 1 1 1 1 1 1 1 1 1 1 1 1 1 1 1 1 1 1 1 1 1\n",
            " 1 1 1 1 1 1 1 1 1 1 1 1 1 1 1 1 1 1 1 1 1 1 1 1 1 1 1 1 1 1 1 1 1 1 1 1 1\n",
            " 1 1 1 1 1 1 1 1 1 1 1 1 1 1 1 1 1 1 1 1 1 1 1 1 1 1 1 1 1 1 1 1 1 1 1 1 1\n",
            " 1 1 1 1 1 1 1 1 1 1 1 1 1 1 1 1 1 1 1 1 1 1 1 1 1 1 1 1 1 1 1 1 1 1 1 1 1\n",
            " 1 1 1 1 1 1 1 1 1 1 1 1 1 1 1 1 1 1 1 1 1 1 1 1 1 1 1 1 1 1 1 1 1 1 1 1 1\n",
            " 1 1 1 1 1 1 1 1 1 1 1 1 1 1 1 1 1 1 1 1 1 1 1 0 0 0 0 0 0 0 0 0 0 0 0 0 0\n",
            " 0 0 0 0 0 0 0 0 0 0 0 0 0 0 0 0 0 0 0 0 0 0 0 0 0 0 0 0 0 0 0 0 0 0 0 0 0\n",
            " 0 0 0 0 0 0 0 0 0 0 0 0 0 0 0 0 0 0 0 0 0 0 0 0 0 0 0 0 0 0 0 0 0 0 0 0 0\n",
            " 0 0 0 0 0 0 0 0 0 0 0 0 0 0 0 0 0 0 0 0 0 0 0 0 0 0 0 0 0 0 0 0 0 0 0 0 0\n",
            " 0 0 0 0 0 0 0 0 0 0 0 0 0 0 0 0 0 0 0 0 0 0 0 0 0 0 0 0 0 0 0 0 0 0 0 0 0\n",
            " 0 0 0 0 0 0 0 0 0 0 0 0 0 0 0 0 0 0 0 0 0 0 0 0 0 0 0 0 0 0 0 0 0 0 0 0 0\n",
            " 0 0 0 0 0 0 0 0 0 0 0 0 0 0 0 0 0 0 0 0 0 0 0 0 0 0 0 0 0 0 0 0 0 0 0 0 0\n",
            " 0 0 0 0 0 0 0 0 0 0 0 0 0 0 0 0 0 0 0 0 0 0 0 0 0 0 0 0 0 0 0 0 0 0 0 0 0\n",
            " 0 0 0 0 0 0 0 0 0 0 0 0 0 0 0 0 0 0 0 0 0 0 0 0 0 0 0 0 0 0 0 0 0 0 0 0 0\n",
            " 0 0 0 0 0 0 0 0 0 0 0 0 0 0 0 0 0 0 0 0 0 0 0 0 0 0 0 0 0 0 0 0 0 0 0 0 0\n",
            " 0 0 0 0 0 0 0 0 0 0 0 0 0 0 0 0 0 0 0 0 0 0 0 0 0 0 0 0 0 0 0 0 0 0 0 0 0\n",
            " 0 0 0 0 0 0 0 0 0 0 0 0 0 0 0 0 0 0 0 0 0 0 0 0 0 0 0 0 0 0 0 0 0 0 0 0]\n"
          ],
          "name": "stdout"
        }
      ]
    },
    {
      "cell_type": "code",
      "metadata": {
        "id": "bpNgDTy46h3Y"
      },
      "source": [
        "# Splitting dataset into the Training set and Test set\n",
        "from sklearn.model_selection import train_test_split\n",
        "X_train, X_test, y_train, y_test = train_test_split(X, y, test_size = 0.3, random_state = 0)"
      ],
      "execution_count": 92,
      "outputs": []
    },
    {
      "cell_type": "code",
      "metadata": {
        "id": "gOt1cVfr6kIw"
      },
      "source": [
        "# Feature Scaling\n",
        "from sklearn.preprocessing import StandardScaler\n",
        "sc = StandardScaler()\n",
        "X_train = sc.fit_transform(X_train)\n",
        "X_test = sc.transform(X_test)"
      ],
      "execution_count": 93,
      "outputs": []
    },
    {
      "cell_type": "code",
      "metadata": {
        "colab": {
          "base_uri": "https://localhost:8080/"
        },
        "id": "JEJsbSZj6mkW",
        "outputId": "92b987b0-bc79-4246-9472-f0e58dded164"
      },
      "source": [
        "print(X_train)"
      ],
      "execution_count": 94,
      "outputs": [
        {
          "output_type": "stream",
          "text": [
            "[[-0.96733329  1.10247978 -0.42082646 ...  0.23069635 -0.97460422\n",
            "  -0.71216488]\n",
            " [-1.04337385  0.42564357 -1.57071285 ... -0.84432111 -1.0508668\n",
            "  -0.04761244]\n",
            " [-1.2707876   0.44192717 -1.76088417 ... -0.81336025 -1.27894457\n",
            "  -0.27270278]\n",
            " ...\n",
            " [ 1.0684535   0.08067574  1.22738001 ...  1.50873563  1.06712681\n",
            "   0.30610095]\n",
            " [-1.04348057  1.10781829 -1.18329187 ... -0.37575238 -1.05097384\n",
            "   0.25036429]\n",
            " [-0.43762772 -0.08259636 -0.23781619 ...  0.28025255 -0.44335198\n",
            "  -0.15640611]]\n"
          ],
          "name": "stdout"
        }
      ]
    },
    {
      "cell_type": "code",
      "metadata": {
        "colab": {
          "base_uri": "https://localhost:8080/"
        },
        "id": "9bZFTAd96ooH",
        "outputId": "1010cf6d-be52-42e8-87a3-295f3a11a9d5"
      },
      "source": [
        "print(X_test)"
      ],
      "execution_count": 95,
      "outputs": [
        {
          "output_type": "stream",
          "text": [
            "[[ 0.11697736 -1.44458858  0.04075288 ...  0.60346436  0.11287248\n",
            "   1.96533832]\n",
            " [ 1.61163983 -1.45042588  1.45140243 ...  0.96883215  1.61189916\n",
            "   1.43155265]\n",
            " [ 0.4374876  -0.62316057  0.49181917 ...  0.69205097  0.43431856\n",
            "  -1.03800994]\n",
            " ...\n",
            " [ 0.65053119 -0.69369482  0.72181131 ...  0.76882422  0.64798421\n",
            "  -1.02729135]\n",
            " [-0.07808311 -0.12471833 -0.09246517 ...  0.32838794 -0.08275755\n",
            "  -0.30914598]\n",
            " [ 1.67830648 -1.48852289  1.51961994 ...  1.12736841  1.67876048\n",
            "   2.0489433 ]]\n"
          ],
          "name": "stdout"
        }
      ]
    },
    {
      "cell_type": "code",
      "metadata": {
        "colab": {
          "base_uri": "https://localhost:8080/"
        },
        "id": "8U701Whi6rQn",
        "outputId": "c513cb32-9888-4c27-fb39-69399312e6f4"
      },
      "source": [
        "from sklearn.tree import DecisionTreeClassifier\n",
        "classifier = DecisionTreeClassifier(criterion = 'entropy', random_state = 42)\n",
        "classifier.fit(X_train, y_train)"
      ],
      "execution_count": 96,
      "outputs": [
        {
          "output_type": "execute_result",
          "data": {
            "text/plain": [
              "DecisionTreeClassifier(ccp_alpha=0.0, class_weight=None, criterion='entropy',\n",
              "                       max_depth=None, max_features=None, max_leaf_nodes=None,\n",
              "                       min_impurity_decrease=0.0, min_impurity_split=None,\n",
              "                       min_samples_leaf=1, min_samples_split=2,\n",
              "                       min_weight_fraction_leaf=0.0, presort='deprecated',\n",
              "                       random_state=42, splitter='best')"
            ]
          },
          "metadata": {
            "tags": []
          },
          "execution_count": 96
        }
      ]
    },
    {
      "cell_type": "code",
      "metadata": {
        "id": "53zAurwI6tAG"
      },
      "source": [
        "y_pred = classifier.predict(X_test)"
      ],
      "execution_count": 97,
      "outputs": []
    },
    {
      "cell_type": "code",
      "metadata": {
        "colab": {
          "base_uri": "https://localhost:8080/"
        },
        "id": "UjROeOxR6u8e",
        "outputId": "44f183db-3e47-439b-a67e-1483058a99a6"
      },
      "source": [
        "from sklearn.metrics import confusion_matrix\n",
        "cm = confusion_matrix(y_test, y_pred)\n",
        "print('Confusion matrix: ')\n",
        "print(cm)"
      ],
      "execution_count": 98,
      "outputs": [
        {
          "output_type": "stream",
          "text": [
            "Confusion matrix: \n",
            "[[126   3]\n",
            " [ 13  47]]\n"
          ],
          "name": "stdout"
        }
      ]
    },
    {
      "cell_type": "code",
      "metadata": {
        "colab": {
          "base_uri": "https://localhost:8080/"
        },
        "id": "O7FZeF9E6xWO",
        "outputId": "b6377977-44d2-4f9b-cc7e-e7e5ab2adf27"
      },
      "source": [
        "\n",
        "from sklearn.metrics import accuracy_score\n",
        "print('Accuracy: %.2f' % (accuracy_score(y_test, y_pred)*100))"
      ],
      "execution_count": 99,
      "outputs": [
        {
          "output_type": "stream",
          "text": [
            "Accuracy: 91.53\n"
          ],
          "name": "stdout"
        }
      ]
    },
    {
      "cell_type": "code",
      "metadata": {
        "colab": {
          "base_uri": "https://localhost:8080/"
        },
        "id": "7E-fMxNo6zrY",
        "outputId": "42b66438-971b-4b24-95b4-8f43cebc42f2"
      },
      "source": [
        "from sklearn.metrics import precision_score\n",
        "from sklearn.metrics import recall_score\n",
        "from sklearn.metrics import f1_score\n",
        "\n",
        "precision = precision_score(y_test, y_pred, average='binary')\n",
        "print('Precision: %.3f' % (precision))"
      ],
      "execution_count": 100,
      "outputs": [
        {
          "output_type": "stream",
          "text": [
            "Precision: 0.940\n"
          ],
          "name": "stdout"
        }
      ]
    },
    {
      "cell_type": "code",
      "metadata": {
        "colab": {
          "base_uri": "https://localhost:8080/"
        },
        "id": "Bw332cl862en",
        "outputId": "5b24fe9d-5618-43b6-a24a-c171aa1e23e2"
      },
      "source": [
        "recall = recall_score(y_test, y_pred, average='binary')\n",
        "print('Recall: %.3f' % (recall))"
      ],
      "execution_count": 101,
      "outputs": [
        {
          "output_type": "stream",
          "text": [
            "Recall: 0.783\n"
          ],
          "name": "stdout"
        }
      ]
    },
    {
      "cell_type": "code",
      "metadata": {
        "colab": {
          "base_uri": "https://localhost:8080/"
        },
        "id": "Bm8PeRUR64F_",
        "outputId": "9ae821d4-d848-43d2-c00a-9cdf6a2978eb"
      },
      "source": [
        "score = f1_score(y_test, y_pred, average='binary')\n",
        "print('F-Measure: %.3f' % (score*100))"
      ],
      "execution_count": 102,
      "outputs": [
        {
          "output_type": "stream",
          "text": [
            "F-Measure: 85.455\n"
          ],
          "name": "stdout"
        }
      ]
    },
    {
      "cell_type": "code",
      "metadata": {
        "id": "-IskF0ba66zi"
      },
      "source": [
        "import pickle \n",
        "  \n",
        "saved_model=pickle.dump(classifier,open('/content/drive/My Drive/Pickle_test.pkl', 'wb')) "
      ],
      "execution_count": 103,
      "outputs": []
    },
    {
      "cell_type": "code",
      "metadata": {
        "colab": {
          "base_uri": "https://localhost:8080/"
        },
        "id": "B-ty7Dbg6-en",
        "outputId": "90b2a8aa-32c6-4656-cfa6-db98c6745f03"
      },
      "source": [
        "model = pickle.load(open('/content/drive/My Drive/Pickle_test.pkl','rb'))  \n",
        "# Use the loaded pickled model to make predictions \n",
        "model.predict(X_test) "
      ],
      "execution_count": 104,
      "outputs": [
        {
          "output_type": "execute_result",
          "data": {
            "text/plain": [
              "array([0, 0, 0, 0, 0, 1, 0, 0, 0, 0, 0, 1, 0, 0, 0, 0, 0, 0, 0, 1, 0, 0,\n",
              "       0, 0, 1, 0, 0, 1, 0, 0, 0, 1, 1, 0, 1, 0, 1, 1, 0, 1, 0, 0, 0, 1,\n",
              "       1, 0, 0, 0, 0, 0, 0, 0, 1, 0, 0, 0, 0, 1, 0, 0, 0, 0, 1, 0, 1, 0,\n",
              "       0, 1, 0, 0, 1, 0, 0, 1, 0, 0, 0, 0, 0, 0, 0, 0, 0, 0, 0, 1, 0, 1,\n",
              "       0, 1, 0, 1, 0, 0, 1, 0, 0, 1, 0, 0, 0, 0, 1, 0, 0, 1, 1, 0, 1, 0,\n",
              "       0, 0, 1, 0, 1, 1, 0, 1, 0, 0, 0, 0, 0, 0, 0, 0, 0, 1, 1, 1, 1, 0,\n",
              "       0, 0, 0, 0, 0, 1, 0, 0, 1, 0, 0, 0, 0, 0, 0, 0, 0, 0, 0, 0, 1, 0,\n",
              "       0, 1, 0, 0, 1, 0, 1, 0, 0, 1, 1, 0, 0, 0, 1, 0, 0, 0, 0, 0, 0, 0,\n",
              "       1, 0, 1, 0, 1, 0, 0, 0, 0, 0, 0, 0, 0])"
            ]
          },
          "metadata": {
            "tags": []
          },
          "execution_count": 104
        }
      ]
    },
    {
      "cell_type": "code",
      "metadata": {
        "colab": {
          "base_uri": "https://localhost:8080/"
        },
        "id": "JLEcNWs57CsX",
        "outputId": "3a634701-503f-48e6-9a5d-8569a74903c4"
      },
      "source": [
        "import joblib\n",
        "filename = '/content/drive/My Drive/Classification Dataset3.sav'\n",
        "joblib.dump(classifier, filename)\n",
        " \n",
        "# some time later...\n",
        " \n",
        "# load the model from disk\n",
        "randomforest_model = joblib.load(filename)\n",
        "result = randomforest_model.score(X_test, y_test)\n",
        "print(result)"
      ],
      "execution_count": 105,
      "outputs": [
        {
          "output_type": "stream",
          "text": [
            "0.9153439153439153\n"
          ],
          "name": "stdout"
        }
      ]
    }
  ]
}